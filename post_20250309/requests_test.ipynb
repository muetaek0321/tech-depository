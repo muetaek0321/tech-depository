{
 "cells": [
  {
   "cell_type": "code",
   "execution_count": 1,
   "metadata": {},
   "outputs": [],
   "source": [
    "import requests\n"
   ]
  },
  {
   "cell_type": "code",
   "execution_count": 2,
   "metadata": {},
   "outputs": [],
   "source": [
    "# APIのURL（今回は自作APIを使用するのでローカルホストアドレス）\n",
    "API_URL = \"http://localhost:8000/\""
   ]
  },
  {
   "cell_type": "code",
   "execution_count": 3,
   "metadata": {},
   "outputs": [
    {
     "data": {
      "text/plain": [
       "{'last_name': ['Miyamoto', 'Ishimori', 'Takamidori', 'Tominaga'],\n",
       " 'age': [58, 57, 58, 58],\n",
       " 'part': ['Vo./Gt.', 'Gt.', 'Ba.', 'Dr.']}"
      ]
     },
     "execution_count": 3,
     "metadata": {},
     "output_type": "execute_result"
    }
   ],
   "source": [
    "# データの取得\n",
    "res = requests.get(API_URL+\"/sample_data\")\n",
    "\n",
    "res.json()"
   ]
  },
  {
   "cell_type": "code",
   "execution_count": 4,
   "metadata": {},
   "outputs": [
    {
     "data": {
      "text/plain": [
       "{'first_name': ['Hiroji', 'Toshiyuki', 'Seiji', 'Yoshiyuki'],\n",
       " 'last_name': ['Miyamoto', 'Ishimori', 'Takamidori', 'Tominaga'],\n",
       " 'age': [58, 57, 58, 58],\n",
       " 'part': ['Vo./Gt.', 'Gt.', 'Ba.', 'Dr.']}"
      ]
     },
     "execution_count": 4,
     "metadata": {},
     "output_type": "execute_result"
    }
   ],
   "source": [
    "# データを追加＋追加後のデータを取得\n",
    "submit_data = {\"first_name\": [\"Hiroji\", \"Toshiyuki\", \"Seiji\", \"Yoshiyuki\"]}\n",
    "\n",
    "res = requests.post(API_URL+\"/sample_data\", json=submit_data)\n",
    "\n",
    "res.json()"
   ]
  },
  {
   "cell_type": "code",
   "execution_count": 5,
   "metadata": {},
   "outputs": [
    {
     "data": {
      "text/plain": [
       "b'first_name,last_name,age,part\\r\\nHiroji,Miyamoto,58,Vo./Gt.\\r\\nToshiyuki,Ishimori,57,Gt.\\r\\nSeiji,Takamidori,58,Ba.\\r\\nYoshiyuki,Tominaga,58,Dr.\\r\\n'"
      ]
     },
     "execution_count": 5,
     "metadata": {},
     "output_type": "execute_result"
    }
   ],
   "source": [
    "# ファイルで取得\n",
    "res = requests.get(API_URL+\"/download_from_df?ext=csv\")\n",
    "filedata = res.content\n",
    "\n",
    "# ファイルデータを書き出し\n",
    "with open(\"sample_download.csv\", mode='wb') as f:\n",
    "    f.write(filedata)\n",
    "\n",
    "filedata"
   ]
  },
  {
   "cell_type": "code",
   "execution_count": null,
   "metadata": {},
   "outputs": [],
   "source": [
    "\n"
   ]
  }
 ],
 "metadata": {
  "kernelspec": {
   "display_name": "fastapi",
   "language": "python",
   "name": "python3"
  },
  "language_info": {
   "codemirror_mode": {
    "name": "ipython",
    "version": 3
   },
   "file_extension": ".py",
   "mimetype": "text/x-python",
   "name": "python",
   "nbconvert_exporter": "python",
   "pygments_lexer": "ipython3",
   "version": "3.10.16"
  }
 },
 "nbformat": 4,
 "nbformat_minor": 2
}
