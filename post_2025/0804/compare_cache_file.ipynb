{
 "cells": [
  {
   "cell_type": "code",
   "execution_count": 1,
   "id": "3600e997",
   "metadata": {},
   "outputs": [],
   "source": [
    "import json\n",
    "\n",
    "# データの用意\n",
    "with open(\"./conversations.json\", mode='r', encoding='utf-8') as f:\n",
    "    data = json.load(f)\n",
    "    "
   ]
  },
  {
   "cell_type": "code",
   "execution_count": 3,
   "id": "7d87dc4d",
   "metadata": {},
   "outputs": [
    {
     "name": "stdout",
     "output_type": "stream",
     "text": [
      "Collecting joblib\n",
      "  Using cached joblib-1.5.1-py3-none-any.whl.metadata (5.6 kB)\n",
      "Using cached joblib-1.5.1-py3-none-any.whl (307 kB)\n",
      "Installing collected packages: joblib\n",
      "Successfully installed joblib-1.5.1\n",
      "Collecting cloudpickle\n",
      "  Downloading cloudpickle-3.1.1-py3-none-any.whl.metadata (7.1 kB)\n",
      "Downloading cloudpickle-3.1.1-py3-none-any.whl (20 kB)\n",
      "Installing collected packages: cloudpickle\n",
      "Successfully installed cloudpickle-3.1.1\n"
     ]
    }
   ],
   "source": [
    "!pip install joblib\n",
    "!pip install cloudpickle"
   ]
  },
  {
   "cell_type": "code",
   "execution_count": 2,
   "id": "69c723bd",
   "metadata": {},
   "outputs": [],
   "source": [
    "import pickle\n",
    "import shelve\n",
    "import joblib\n",
    "import cloudpickle"
   ]
  },
  {
   "cell_type": "markdown",
   "id": "41324dd0",
   "metadata": {},
   "source": [
    "### pickle"
   ]
  },
  {
   "cell_type": "code",
   "execution_count": 7,
   "id": "4a78d237",
   "metadata": {},
   "outputs": [
    {
     "name": "stdout",
     "output_type": "stream",
     "text": [
      "CPU times: total: 0 ns\n",
      "Wall time: 3.16 ms\n"
     ]
    }
   ],
   "source": [
    "%%time\n",
    "with open(\"conversations_cache.pickle\", mode='wb') as f:\n",
    "    pickle.dump(data, f)\n"
   ]
  },
  {
   "cell_type": "code",
   "execution_count": 8,
   "id": "7ba277fd",
   "metadata": {},
   "outputs": [
    {
     "name": "stdout",
     "output_type": "stream",
     "text": [
      "CPU times: total: 0 ns\n",
      "Wall time: 6.12 ms\n"
     ]
    }
   ],
   "source": [
    "%%time\n",
    "with open(\"conversations_cache.pickle\", mode='rb') as f:\n",
    "    data = pickle.load(f)\n"
   ]
  },
  {
   "cell_type": "markdown",
   "id": "3b5f97f8",
   "metadata": {},
   "source": [
    "### shelve"
   ]
  },
  {
   "cell_type": "code",
   "execution_count": 12,
   "id": "4ae41d73",
   "metadata": {},
   "outputs": [
    {
     "name": "stdout",
     "output_type": "stream",
     "text": [
      "CPU times: total: 0 ns\n",
      "Wall time: 8.94 ms\n"
     ]
    }
   ],
   "source": [
    "%%time\n",
    "with shelve.open(\"conversations_cache.shelve\") as db:\n",
    "    db['data'] = data\n"
   ]
  },
  {
   "cell_type": "code",
   "execution_count": 10,
   "id": "173b71ba",
   "metadata": {},
   "outputs": [
    {
     "name": "stdout",
     "output_type": "stream",
     "text": [
      "CPU times: total: 31.2 ms\n",
      "Wall time: 26.1 ms\n"
     ]
    }
   ],
   "source": [
    "%%time\n",
    "with shelve.open(\"conversations_cache.shelve\") as db:\n",
    "    data = db['data']\n"
   ]
  },
  {
   "cell_type": "markdown",
   "id": "2c16f28d",
   "metadata": {},
   "source": [
    "### joblib"
   ]
  },
  {
   "cell_type": "code",
   "execution_count": 13,
   "id": "e72830ec",
   "metadata": {},
   "outputs": [
    {
     "name": "stdout",
     "output_type": "stream",
     "text": [
      "CPU times: total: 93.8 ms\n",
      "Wall time: 92 ms\n"
     ]
    },
    {
     "data": {
      "text/plain": [
       "['conversations_cache.joblib']"
      ]
     },
     "execution_count": 13,
     "metadata": {},
     "output_type": "execute_result"
    }
   ],
   "source": [
    "%%time\n",
    "joblib.dump(data, \"conversations_cache.joblib\", compress=3)\n"
   ]
  },
  {
   "cell_type": "code",
   "execution_count": 14,
   "id": "a9d2a7db",
   "metadata": {},
   "outputs": [
    {
     "name": "stdout",
     "output_type": "stream",
     "text": [
      "CPU times: total: 46.9 ms\n",
      "Wall time: 44.2 ms\n"
     ]
    }
   ],
   "source": [
    "%%time\n",
    "data = joblib.load(\"conversations_cache.joblib\")\n"
   ]
  },
  {
   "cell_type": "markdown",
   "id": "d989d702",
   "metadata": {},
   "source": [
    "### cloudpickle"
   ]
  },
  {
   "cell_type": "code",
   "execution_count": 16,
   "id": "1dcd37cd",
   "metadata": {},
   "outputs": [
    {
     "name": "stdout",
     "output_type": "stream",
     "text": [
      "CPU times: total: 0 ns\n",
      "Wall time: 2.99 ms\n"
     ]
    }
   ],
   "source": [
    "%%time\n",
    "with open(\"conversations_cache.cloudpickle\", mode='wb') as f:\n",
    "   cloudpickle.dump(data, f)\n"
   ]
  },
  {
   "cell_type": "code",
   "execution_count": 18,
   "id": "7773e0d7",
   "metadata": {},
   "outputs": [
    {
     "name": "stdout",
     "output_type": "stream",
     "text": [
      "CPU times: total: 0 ns\n",
      "Wall time: 3.42 ms\n"
     ]
    }
   ],
   "source": [
    "%%time\n",
    "with open(\"conversations_cache.cloudpickle\", mode='rb') as f:\n",
    "   data = cloudpickle.load(f)\n"
   ]
  }
 ],
 "metadata": {
  "kernelspec": {
   "display_name": "iroiro",
   "language": "python",
   "name": "python3"
  },
  "language_info": {
   "codemirror_mode": {
    "name": "ipython",
    "version": 3
   },
   "file_extension": ".py",
   "mimetype": "text/x-python",
   "name": "python",
   "nbconvert_exporter": "python",
   "pygments_lexer": "ipython3",
   "version": "3.10.14"
  }
 },
 "nbformat": 4,
 "nbformat_minor": 5
}
